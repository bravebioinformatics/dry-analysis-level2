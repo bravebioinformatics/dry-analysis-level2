{
  "nbformat": 4,
  "nbformat_minor": 0,
  "metadata": {
    "colab": {
      "name": "gRNA_seq.ipynb",
      "provenance": [],
      "authorship_tag": "ABX9TyNaFgqIhjA1+LfcubJJX2nA",
      "include_colab_link": true
    },
    "kernelspec": {
      "name": "python3",
      "display_name": "Python 3"
    }
  },
  "cells": [
    {
      "cell_type": "markdown",
      "metadata": {
        "id": "view-in-github",
        "colab_type": "text"
      },
      "source": [
        "<a href=\"https://colab.research.google.com/github/onakamari/dry-analysis-level2/blob/main/gRNA_seq.ipynb\" target=\"_parent\"><img src=\"https://colab.research.google.com/assets/colab-badge.svg\" alt=\"Open In Colab\"/></a>"
      ]
    },
    {
      "cell_type": "code",
      "metadata": {
        "colab": {
          "base_uri": "https://localhost:8080/"
        },
        "id": "b2NbACh9HYie",
        "outputId": "ba265939-a058-4a6c-cfac-3a676ca56fb5"
      },
      "source": [
        "! pip install biopython"
      ],
      "execution_count": 2,
      "outputs": [
        {
          "output_type": "stream",
          "text": [
            "Collecting biopython\n",
            "\u001b[?25l  Downloading https://files.pythonhosted.org/packages/76/02/8b606c4aa92ff61b5eda71d23b499ab1de57d5e818be33f77b01a6f435a8/biopython-1.78-cp36-cp36m-manylinux1_x86_64.whl (2.3MB)\n",
            "\u001b[K     |████████████████████████████████| 2.3MB 5.4MB/s \n",
            "\u001b[?25hRequirement already satisfied: numpy in /usr/local/lib/python3.6/dist-packages (from biopython) (1.19.4)\n",
            "Installing collected packages: biopython\n",
            "Successfully installed biopython-1.78\n"
          ],
          "name": "stdout"
        }
      ]
    },
    {
      "cell_type": "code",
      "metadata": {
        "colab": {
          "base_uri": "https://localhost:8080/"
        },
        "id": "Wrft-srjKnUe",
        "outputId": "7c8723dc-51d7-415c-c253-344603fe473a"
      },
      "source": [
        "#Create a new sequence using Seq().\n",
        "from Bio.Seq import Seq\n",
        "my_seq = Seq(\"AGTACTATCAAGGT\")\n",
        "print(my_seq)\n",
        "\n",
        "#You can retrieve sequence using index. \n",
        "print(my_seq[2:4])\n",
        "\n",
        "#Calculate GC rates.\n",
        "from Bio.SeqUtils import GC\n",
        "print (GC(my_seq))\n",
        "\n",
        "#Show a complementary sequence.\n",
        "print(my_seq.complement())\n",
        "\n",
        "#Reverse a complementary sequence.\n",
        "print(my_seq.reverse_complement())"
      ],
      "execution_count": 5,
      "outputs": [
        {
          "output_type": "stream",
          "text": [
            "AGTACTATCAAGGT\n",
            "TA\n",
            "35.714285714285715\n",
            "TCATGATAGTTCCA\n",
            "ACCTTGATAGTACT\n"
          ],
          "name": "stdout"
        }
      ]
    },
    {
      "cell_type": "code",
      "metadata": {
        "colab": {
          "base_uri": "https://localhost:8080/"
        },
        "id": "znTexL5NLl0A",
        "outputId": "b75037dd-faac-4e50-a465-d9d1e6802f3c"
      },
      "source": [
        "#Reading sequence from a fasta file.\n",
        "from Bio import SeqIO\n",
        "record = SeqIO.read('ENSG00000232926.fasta','fasta')\n",
        "print(record.id, record.seq)\n",
        "\n",
        "#You can use variableName.seq to retrieve only sequence information\n",
        "seq = record.seq\n",
        "print(seq)\n",
        "\n",
        "#requests is a module for making HTTP requests.\n",
        "! pip install requests\n",
        "\n",
        "#An example GET request using the requests module.\n",
        "import requests\n",
        "\n",
        "url = 'https://example.com'\n",
        "\n",
        "response = requests.get(url)\n",
        "\n",
        "print(response)\n",
        "print(type(response))\n",
        "print(response.url)\n",
        "print(response.headers)\n",
        "\n",
        "print(seq)"
      ],
      "execution_count": 8,
      "outputs": [
        {
          "output_type": "stream",
          "text": [
            "ENSG00000232926.1 GTGGGCCACGGGATTCGTGGGCAGAGGAAGGGCACCAGCTCTGTGTTCCTTGTGCACATGAAGCAGGAGGGCTCATAGGCCTGCATGCTGTGGACTTAGCTGAGCGGCACAGCTACATCAAGGGCACCTTGAAGGACATGCCCCTGCTGAGATGGTCTCCAGGATCCACACCAGTTTAAGCAGCAGACAGAGCTGTCCATCACCACCAAGGGCCTCCACACGGGCCAATTTCTGTTTGTGTACTGTAGCAAGAGGGCCCAGCTGGACGTCGGCAGCGTCCTCCCTGCAGGCACCACACCTGTACCATCAAGCGCTGCCTGGAGGAGAGGCTGAGACTGGAACTTGTTAGCCTGGGCCTTTGAGAACTACACCGCAGTCACCTCCCCTAGCCCGGAAACCAGGAAGACTTACATGAAGCTGCCCTCCAAGAGGATCATCTCAGCCAACAGAGCTGTGGTCAATGTGGGAGCCAGAGGTGGCCGAACTGACCAGCCATCCTGAAGGCAGGCCATGCCCACTACATATAAGGCAAAGAAGAGCTGCTGACCATGGTGCAGAGTATGGCCGCAAGCCCCAAGGAACGTCCCTTCAGAGATGGCAACCACTGGCACGTTGGCGAACCTGCCACTGCAGAGATGTCTCTGCTGGTAGCAAAGTGGGTCTCATTGCTGCCCACTGGACT\n"
          ],
          "name": "stdout"
        }
      ]
    },
    {
      "cell_type": "code",
      "metadata": {
        "id": "6R-CYgrkejYi",
        "colab": {
          "base_uri": "https://localhost:8080/"
        },
        "outputId": "35af85b2-6f70-49f9-ede6-e1ae4bd3d70a"
      },
      "source": [
        "#Read json file.\n",
        "import json\n",
        "\n",
        "with open('min_ensg00000232926.json') as f:\n",
        "  data = json.load(f)\n",
        "\n",
        "print(data)"
      ],
      "execution_count": 19,
      "outputs": [
        {
          "output_type": "stream",
          "text": [
            "{'name': 'ensg00000232926', 'seq': 'GTGGGCCACGGGATTCGTGGGCAGAGGAAGGGCACCAGCTCTGTGTTCCTTGTGCACATGAAGCAGGAGGGCTCATAGGCCTGCATGCTGTGGACTTAGCTGAGCGGCACAGCTACATCAAGGGCACCTTGAAGGACATGCCCCTGCTGAGATGGTCTCCAGGATCCACACCAGTTTAAGCAGCAGACAGAGCTGTCCATCACCACCAAGGGCCTCCACACGGGCCAATTTCTGTTTGTGTACTGTAGCAAGAGGGCCCAGCTGGACGTCGGCAGCGTCCTCCCTGCAGGCACCACACCTGTACCATCAAGCGCTGCCTGGAGGAGAGGCTGAGACTGGAACTTGTTAGCCTGGGCCTTTGAGAACTACACCGCAGTCACCTCCCCTAGCCCGGAAACCAGGAAGACTTACATGAAGCTGCCCTCCAAGAGGATCATCTCAGCCAACAGAGCTGTGGTCAATGTGGGAGCCAGAGGTGGCCGAACTGACCAGCCATCCTGAAGGCAGGCCATGCCCACTACATATAAGGCAAAGAAGAGCTGCTGACCATGGTGCAGAGTATGGCCGCAAGCCCCAAGGAACGTCCCTTCAGAGATGGCAACCACTGGCACGTTGGCGAACCTGCCACTGCAGAGATGTCTCTGCTGGTAGCAAAGTGGGTCTCATTGCTGCCCACTGGACT', 'dotbracket': '((((((....((.(((.(((((((.((.((((((...((.(((((.(((((.(((.......))).)))))..))))))).)))..(((((((...((((((.......))))))......((((.((((((.(((((.(((.((((((...((((.............)))).......))))))...).))))))).)))......)))))))..((((((((........))))))))..(((((...(((((((((((((.(((....((((..(((((((.((((((.(.(...((......)).).).)))))).))).))))....).))).....)))))).)))))))))).....))))))))))))..))).)))).)))))))).))....((((((((.....((((((.(((....)))......(((((....).))))((((((...(((..(((...)))..)))...))))))(((((((((((((..((((((((((((((.......(((........)))........)))))..).))))))))((...((....))...)).))))))).))))))......(((((.(((....))).)))))..((((((....)))))).))))))...)))))))).......))))))......', 'rnaLength': 682}\n"
          ],
          "name": "stdout"
        }
      ]
    },
    {
      "cell_type": "code",
      "metadata": {
        "colab": {
          "base_uri": "https://localhost:8080/"
        },
        "id": "E6uadGmbTmtu",
        "outputId": "94578b57-4a0a-4afd-828b-4b4bc40f184f"
      },
      "source": [
        "#save name, seq, and dotbracket to variables.\n",
        "name = data['name']\n",
        "seq = data['seq']\n",
        "dotbracket = data['dotbracket']\n",
        "centralSeedCondition = '........'\n",
        "print(name, seq, dotbracket)\n",
        "\n",
        "#double check if the seq and dotbrackets' lengths match.\n",
        "if(len(seq) == len(dotbracket)):\n",
        "  print(\"happy!\")"
      ],
      "execution_count": 39,
      "outputs": [
        {
          "output_type": "stream",
          "text": [
            "ensg00000232926 GTGGGCCACGGGATTCGTGGGCAGAGGAAGGGCACCAGCTCTGTGTTCCTTGTGCACATGAAGCAGGAGGGCTCATAGGCCTGCATGCTGTGGACTTAGCTGAGCGGCACAGCTACATCAAGGGCACCTTGAAGGACATGCCCCTGCTGAGATGGTCTCCAGGATCCACACCAGTTTAAGCAGCAGACAGAGCTGTCCATCACCACCAAGGGCCTCCACACGGGCCAATTTCTGTTTGTGTACTGTAGCAAGAGGGCCCAGCTGGACGTCGGCAGCGTCCTCCCTGCAGGCACCACACCTGTACCATCAAGCGCTGCCTGGAGGAGAGGCTGAGACTGGAACTTGTTAGCCTGGGCCTTTGAGAACTACACCGCAGTCACCTCCCCTAGCCCGGAAACCAGGAAGACTTACATGAAGCTGCCCTCCAAGAGGATCATCTCAGCCAACAGAGCTGTGGTCAATGTGGGAGCCAGAGGTGGCCGAACTGACCAGCCATCCTGAAGGCAGGCCATGCCCACTACATATAAGGCAAAGAAGAGCTGCTGACCATGGTGCAGAGTATGGCCGCAAGCCCCAAGGAACGTCCCTTCAGAGATGGCAACCACTGGCACGTTGGCGAACCTGCCACTGCAGAGATGTCTCTGCTGGTAGCAAAGTGGGTCTCATTGCTGCCCACTGGACT ((((((....((.(((.(((((((.((.((((((...((.(((((.(((((.(((.......))).)))))..))))))).)))..(((((((...((((((.......))))))......((((.((((((.(((((.(((.((((((...((((.............)))).......))))))...).))))))).)))......)))))))..((((((((........))))))))..(((((...(((((((((((((.(((....((((..(((((((.((((((.(.(...((......)).).).)))))).))).))))....).))).....)))))).)))))))))).....))))))))))))..))).)))).)))))))).))....((((((((.....((((((.(((....)))......(((((....).))))((((((...(((..(((...)))..)))...))))))(((((((((((((..((((((((((((((.......(((........)))........)))))..).))))))))((...((....))...)).))))))).))))))......(((((.(((....))).)))))..((((((....)))))).))))))...)))))))).......))))))......\n",
            "happy!\n"
          ],
          "name": "stdout"
        }
      ]
    },
    {
      "cell_type": "code",
      "metadata": {
        "colab": {
          "base_uri": "https://localhost:8080/"
        },
        "id": "9HI-6lSwXSXc",
        "outputId": "960a0d1c-b938-450e-b5c3-8a2f2e204be4"
      },
      "source": [
        "indexes = [i for i, x in enumerate(dotbracket) if x == centralSeedCondition]\n",
        "print(indexes)\n",
        "\n",
        "#Function for multiple index search\n",
        "def indexMulti(l, x):\n",
        "  return [i for i, _x in enumerate(l) if _x == x]"
      ],
      "execution_count": 57,
      "outputs": [
        {
          "output_type": "stream",
          "text": [
            "[]\n"
          ],
          "name": "stdout"
        }
      ]
    },
    {
      "cell_type": "code",
      "metadata": {
        "colab": {
          "base_uri": "https://localhost:8080/"
        },
        "id": "g-PpFmJodCP8",
        "outputId": "4531f178-cdec-4d6b-f170-e5a5f0aa543a"
      },
      "source": [
        "#Return true if there satisfying regions exist in the sequence\n",
        "matchingRegions = centralSeedCondition in dotbracket\n",
        "print(matchingRegions)\n",
        "\n",
        "#Number of matching areas.\n",
        "numberOfSingleStrandedRagions = dotbracket.count(centralSeedCondition)\n",
        "print(numberOfSingleStrandedRagions)"
      ],
      "execution_count": 52,
      "outputs": [
        {
          "output_type": "stream",
          "text": [
            "True\n",
            "4\n"
          ],
          "name": "stdout"
        }
      ]
    },
    {
      "cell_type": "code",
      "metadata": {
        "colab": {
          "base_uri": "https://localhost:8080/"
        },
        "id": "4o7ddMpgiFrx",
        "outputId": "81f76321-8ffd-4b0d-f7b0-c1de9a7cb42f"
      },
      "source": [
        "#Return the beginning of first single stranded regions's index. Return false if it doesn't exist.\n",
        "def index(l, x, default=False):\n",
        "  if x in l:\n",
        "    return l.index(x)\n",
        "  else:\n",
        "    return default\n",
        "\n",
        "print(index(dotbracket, centralSeedCondition))"
      ],
      "execution_count": 58,
      "outputs": [
        {
          "output_type": "stream",
          "text": [
            "156\n"
          ],
          "name": "stdout"
        }
      ]
    },
    {
      "cell_type": "code",
      "metadata": {
        "colab": {
          "base_uri": "https://localhost:8080/",
          "height": 137
        },
        "id": "nQIjzvPWlhIU",
        "outputId": "9c478004-2408-4757-ebd4-f30764c5f234"
      },
      "source": [
        "dotbracket[156]\n",
        "dotbracket"
      ],
      "execution_count": 65,
      "outputs": [
        {
          "output_type": "execute_result",
          "data": {
            "application/vnd.google.colaboratory.intrinsic+json": {
              "type": "string"
            },
            "text/plain": [
              "'((((((....((.(((.(((((((.((.((((((...((.(((((.(((((.(((.......))).)))))..))))))).)))..(((((((...((((((.......))))))......((((.((((((.(((((.(((.((((((...((((.............)))).......))))))...).))))))).)))......)))))))..((((((((........))))))))..(((((...(((((((((((((.(((....((((..(((((((.((((((.(.(...((......)).).).)))))).))).))))....).))).....)))))).)))))))))).....))))))))))))..))).)))).)))))))).))....((((((((.....((((((.(((....)))......(((((....).))))((((((...(((..(((...)))..)))...))))))(((((((((((((..((((((((((((((.......(((........)))........)))))..).))))))))((...((....))...)).))))))).))))))......(((((.(((....))).)))))..((((((....)))))).))))))...)))))))).......))))))......'"
            ]
          },
          "metadata": {
            "tags": []
          },
          "execution_count": 65
        }
      ]
    },
    {
      "cell_type": "code",
      "metadata": {
        "colab": {
          "base_uri": "https://localhost:8080/"
        },
        "id": "SGPLm6kklwbL",
        "outputId": "79c7a129-f15b-4360-e554-7891af29821a"
      },
      "source": [
        "#Search SS regions in dotbracket and return indexes.\n",
        "import re\n",
        "\n",
        "ssIndex = re.search(r'\\.\\.\\.\\.\\.\\.\\.\\.', dotbracket).span()\n",
        "print(ssIndex)"
      ],
      "execution_count": 74,
      "outputs": [
        {
          "output_type": "stream",
          "text": [
            "(156, 164)\n"
          ],
          "name": "stdout"
        },
        {
          "output_type": "execute_result",
          "data": {
            "text/plain": [
              "tuple"
            ]
          },
          "metadata": {
            "tags": []
          },
          "execution_count": 74
        }
      ]
    },
    {
      "cell_type": "code",
      "metadata": {
        "colab": {
          "base_uri": "https://localhost:8080/"
        },
        "id": "OI2IFyGll7JK",
        "outputId": "7369401f-2071-4d7f-a51e-df41504f0ea7"
      },
      "source": [
        "#Find the matching seq and return a complementary seq\n",
        "def matchingSequence(ssIndex):\n",
        "  m = Seq(seq[ssIndex[0]:ssIndex[1]])\n",
        "  c = m.complement()\n",
        "  return m,c \n",
        "\n",
        "matchingSequence(ssIndex)"
      ],
      "execution_count": 87,
      "outputs": [
        {
          "output_type": "execute_result",
          "data": {
            "text/plain": [
              "(Seq('CTCCAGGA'), Seq('GAGGTCCT'))"
            ]
          },
          "metadata": {
            "tags": []
          },
          "execution_count": 87
        }
      ]
    },
    {
      "cell_type": "code",
      "metadata": {
        "colab": {
          "base_uri": "https://localhost:8080/"
        },
        "id": "YlT59y24r5-Q",
        "outputId": "e5b52d04-4e6c-4f43-94ce-8cbd42c0c5ac"
      },
      "source": [
        "allDotsRegions = re.finditer(r'\\.\\.\\.\\.\\.\\.\\.\\.', dotbracket)\n",
        "print(allDotsRegions)\n",
        "\n",
        "while True:\n",
        "  try:\n",
        "    e = next(allDotsRegions)\n",
        "  except StopIteration:\n",
        "    break\n",
        "  print(e)\n"
      ],
      "execution_count": 94,
      "outputs": [
        {
          "output_type": "stream",
          "text": [
            "<callable_iterator object at 0x7fe2ca56ce48>\n",
            "<_sre.SRE_Match object; span=(156, 164), match='........'>\n",
            "<_sre.SRE_Match object; span=(225, 233), match='........'>\n",
            "<_sre.SRE_Match object; span=(530, 538), match='........'>\n",
            "<_sre.SRE_Match object; span=(541, 549), match='........'>\n"
          ],
          "name": "stdout"
        }
      ]
    }
  ]
}