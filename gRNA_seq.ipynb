{
  "nbformat": 4,
  "nbformat_minor": 0,
  "metadata": {
    "colab": {
      "name": "gRNA_seq.ipynb",
      "provenance": [],
      "authorship_tag": "ABX9TyMDAtE3oRvZRvx4u7aX8+kr",
      "include_colab_link": true
    },
    "kernelspec": {
      "name": "python3",
      "display_name": "Python 3"
    }
  },
  "cells": [
    {
      "cell_type": "markdown",
      "metadata": {
        "id": "view-in-github",
        "colab_type": "text"
      },
      "source": [
        "<a href=\"https://colab.research.google.com/github/onakamari/dry-analysis-level2/blob/main/gRNA_seq.ipynb\" target=\"_parent\"><img src=\"https://colab.research.google.com/assets/colab-badge.svg\" alt=\"Open In Colab\"/></a>"
      ]
    },
    {
      "cell_type": "code",
      "metadata": {
        "colab": {
          "base_uri": "https://localhost:8080/"
        },
        "id": "b2NbACh9HYie",
        "outputId": "e8fb1135-70f9-494b-dc24-b29ea5a3b908"
      },
      "source": [
        "! pip install biopython"
      ],
      "execution_count": 2,
      "outputs": [
        {
          "output_type": "stream",
          "text": [
            "Collecting biopython\n",
            "\u001b[?25l  Downloading https://files.pythonhosted.org/packages/76/02/8b606c4aa92ff61b5eda71d23b499ab1de57d5e818be33f77b01a6f435a8/biopython-1.78-cp36-cp36m-manylinux1_x86_64.whl (2.3MB)\n",
            "\u001b[K     |████████████████████████████████| 2.3MB 5.8MB/s \n",
            "\u001b[?25hRequirement already satisfied: numpy in /usr/local/lib/python3.6/dist-packages (from biopython) (1.19.4)\n",
            "Installing collected packages: biopython\n",
            "Successfully installed biopython-1.78\n"
          ],
          "name": "stdout"
        }
      ]
    },
    {
      "cell_type": "code",
      "metadata": {
        "colab": {
          "base_uri": "https://localhost:8080/"
        },
        "id": "Wrft-srjKnUe",
        "outputId": "16416e71-b236-455b-cb8e-e3336554fe35"
      },
      "source": [
        "#Create a new sequence using Seq().\n",
        "from Bio.Seq import Seq\n",
        "my_seq = Seq(\"AGTACTATCAAGGT\")\n",
        "print(my_seq)\n",
        "\n",
        "#You can retrieve sequence using index. \n",
        "print(my_seq[2:4])\n",
        "\n",
        "#Calculate GC rates.\n",
        "from Bio.SeqUtils import GC\n",
        "print (GC(my_seq))\n",
        "\n",
        "#Show a complementary sequence.\n",
        "print(my_seq.complement())\n",
        "\n",
        "#Reverse a complementary sequence.\n",
        "print(my_seq.reverse_complement())"
      ],
      "execution_count": 3,
      "outputs": [
        {
          "output_type": "stream",
          "text": [
            "AGTACTATCAAGGT\n",
            "TA\n",
            "35.714285714285715\n",
            "TCATGATAGTTCCA\n",
            "ACCTTGATAGTACT\n"
          ],
          "name": "stdout"
        }
      ]
    },
    {
      "cell_type": "code",
      "metadata": {
        "id": "znTexL5NLl0A"
      },
      "source": [
        "\"\"\"\n",
        "#Reading sequence from a fasta file.\n",
        "\n",
        "from Bio import SeqIO\n",
        "record = SeqIO.read('ENSG00000232926.fasta','fasta')\n",
        "print(record.id, record.seq)\n",
        "\n",
        "#You can use variableName.seq to retrieve only sequence information\n",
        "seq = record.seq\n",
        "print(seq)\n",
        "\n",
        "#requests is a module for making HTTP requests.\n",
        "! pip install requests\n",
        "\n",
        "#An example GET request using the requests module.\n",
        "import requests\n",
        "\n",
        "url = 'https://example.com'\n",
        "\n",
        "response = requests.get(url)\n",
        "\n",
        "print(response)\n",
        "print(type(response))\n",
        "print(response.url)\n",
        "print(response.headers)\n",
        "\n",
        "print(seq)\n",
        "\"\"\""
      ],
      "execution_count": null,
      "outputs": []
    },
    {
      "cell_type": "code",
      "metadata": {
        "id": "6R-CYgrkejYi",
        "colab": {
          "base_uri": "https://localhost:8080/"
        },
        "outputId": "b4d99a56-bfa3-4d84-bf37-3e7582d6e504"
      },
      "source": [
        "#Read json file.\n",
        "import json\n",
        "\n",
        "with open('min_ensg00000232926.json') as f:\n",
        "  data = json.load(f)\n",
        "\n",
        "print(data)"
      ],
      "execution_count": 5,
      "outputs": [
        {
          "output_type": "stream",
          "text": [
            "{'name': 'ensg00000232926', 'seq': 'GTGGGCCACGGGATTCGTGGGCAGAGGAAGGGCACCAGCTCTGTGTTCCTTGTGCACATGAAGCAGGAGGGCTCATAGGCCTGCATGCTGTGGACTTAGCTGAGCGGCACAGCTACATCAAGGGCACCTTGAAGGACATGCCCCTGCTGAGATGGTCTCCAGGATCCACACCAGTTTAAGCAGCAGACAGAGCTGTCCATCACCACCAAGGGCCTCCACACGGGCCAATTTCTGTTTGTGTACTGTAGCAAGAGGGCCCAGCTGGACGTCGGCAGCGTCCTCCCTGCAGGCACCACACCTGTACCATCAAGCGCTGCCTGGAGGAGAGGCTGAGACTGGAACTTGTTAGCCTGGGCCTTTGAGAACTACACCGCAGTCACCTCCCCTAGCCCGGAAACCAGGAAGACTTACATGAAGCTGCCCTCCAAGAGGATCATCTCAGCCAACAGAGCTGTGGTCAATGTGGGAGCCAGAGGTGGCCGAACTGACCAGCCATCCTGAAGGCAGGCCATGCCCACTACATATAAGGCAAAGAAGAGCTGCTGACCATGGTGCAGAGTATGGCCGCAAGCCCCAAGGAACGTCCCTTCAGAGATGGCAACCACTGGCACGTTGGCGAACCTGCCACTGCAGAGATGTCTCTGCTGGTAGCAAAGTGGGTCTCATTGCTGCCCACTGGACT', 'dotbracket': '((((((....((.(((.(((((((.((.((((((...((.(((((.(((((.(((.......))).)))))..))))))).)))..(((((((...((((((.......))))))......((((.((((((.(((((.(((.((((((...((((.............)))).......))))))...).))))))).)))......)))))))..((((((((........))))))))..(((((...(((((((((((((.(((....((((..(((((((.((((((.(.(...((......)).).).)))))).))).))))....).))).....)))))).)))))))))).....))))))))))))..))).)))).)))))))).))....((((((((.....((((((.(((....)))......(((((....).))))((((((...(((..(((...)))..)))...))))))(((((((((((((..((((((((((((((.......(((........)))........)))))..).))))))))((...((....))...)).))))))).))))))......(((((.(((....))).)))))..((((((....)))))).))))))...)))))))).......))))))......', 'rnaLength': 682}\n"
          ],
          "name": "stdout"
        }
      ]
    },
    {
      "cell_type": "code",
      "metadata": {
        "colab": {
          "base_uri": "https://localhost:8080/"
        },
        "id": "E6uadGmbTmtu",
        "outputId": "1dc3ab1a-1bdc-4507-ef7d-4803fd6da39a"
      },
      "source": [
        "#save name, seq, and dotbracket to variables.\n",
        "name = data['name']\n",
        "seq = data['seq']\n",
        "dotbracket = data['dotbracket']\n",
        "centralSeedCondition = '........'\n",
        "print(name, seq, dotbracket)\n",
        "\n",
        "#double check if the seq and dotbrackets' lengths match.\n",
        "if(len(seq) == len(dotbracket)):\n",
        "  print(\"happy!\")"
      ],
      "execution_count": 6,
      "outputs": [
        {
          "output_type": "stream",
          "text": [
            "ensg00000232926 GTGGGCCACGGGATTCGTGGGCAGAGGAAGGGCACCAGCTCTGTGTTCCTTGTGCACATGAAGCAGGAGGGCTCATAGGCCTGCATGCTGTGGACTTAGCTGAGCGGCACAGCTACATCAAGGGCACCTTGAAGGACATGCCCCTGCTGAGATGGTCTCCAGGATCCACACCAGTTTAAGCAGCAGACAGAGCTGTCCATCACCACCAAGGGCCTCCACACGGGCCAATTTCTGTTTGTGTACTGTAGCAAGAGGGCCCAGCTGGACGTCGGCAGCGTCCTCCCTGCAGGCACCACACCTGTACCATCAAGCGCTGCCTGGAGGAGAGGCTGAGACTGGAACTTGTTAGCCTGGGCCTTTGAGAACTACACCGCAGTCACCTCCCCTAGCCCGGAAACCAGGAAGACTTACATGAAGCTGCCCTCCAAGAGGATCATCTCAGCCAACAGAGCTGTGGTCAATGTGGGAGCCAGAGGTGGCCGAACTGACCAGCCATCCTGAAGGCAGGCCATGCCCACTACATATAAGGCAAAGAAGAGCTGCTGACCATGGTGCAGAGTATGGCCGCAAGCCCCAAGGAACGTCCCTTCAGAGATGGCAACCACTGGCACGTTGGCGAACCTGCCACTGCAGAGATGTCTCTGCTGGTAGCAAAGTGGGTCTCATTGCTGCCCACTGGACT ((((((....((.(((.(((((((.((.((((((...((.(((((.(((((.(((.......))).)))))..))))))).)))..(((((((...((((((.......))))))......((((.((((((.(((((.(((.((((((...((((.............)))).......))))))...).))))))).)))......)))))))..((((((((........))))))))..(((((...(((((((((((((.(((....((((..(((((((.((((((.(.(...((......)).).).)))))).))).))))....).))).....)))))).)))))))))).....))))))))))))..))).)))).)))))))).))....((((((((.....((((((.(((....)))......(((((....).))))((((((...(((..(((...)))..)))...))))))(((((((((((((..((((((((((((((.......(((........)))........)))))..).))))))))((...((....))...)).))))))).))))))......(((((.(((....))).)))))..((((((....)))))).))))))...)))))))).......))))))......\n",
            "happy!\n"
          ],
          "name": "stdout"
        }
      ]
    },
    {
      "cell_type": "code",
      "metadata": {
        "id": "9HI-6lSwXSXc"
      },
      "source": [
        "\"\"\"\n",
        "#Unsuccessful try\n",
        "\n",
        "indexes = [i for i, x in enumerate(dotbracket) if x == centralSeedCondition]\n",
        "print(indexes)\n",
        "\n",
        "#Function for multiple index search\n",
        "def indexMulti(l, x):\n",
        "  return [i for i, _x in enumerate(l) if _x == x]\n",
        "\"\"\""
      ],
      "execution_count": null,
      "outputs": []
    },
    {
      "cell_type": "code",
      "metadata": {
        "id": "g-PpFmJodCP8"
      },
      "source": [
        "#Return true if there satisfying regions exist in the sequence\n",
        "matchingRegions = centralSeedCondition in dotbracket\n",
        "print(matchingRegions)\n",
        "\n",
        "#Number of matching areas.\n",
        "numberOfSingleStrandedRagions = dotbracket.count(centralSeedCondition)\n",
        "print(numberOfSingleStrandedRagions)"
      ],
      "execution_count": null,
      "outputs": []
    },
    {
      "cell_type": "code",
      "metadata": {
        "id": "4o7ddMpgiFrx"
      },
      "source": [
        "#Return the beginning of first single stranded regions's index. Return false if it doesn't exist.\n",
        "def index(l, x, default=False):\n",
        "  if x in l:\n",
        "    return l.index(x)\n",
        "  else:\n",
        "    return default\n",
        "\n",
        "print(index(dotbracket, centralSeedCondition))"
      ],
      "execution_count": null,
      "outputs": []
    },
    {
      "cell_type": "code",
      "metadata": {
        "colab": {
          "base_uri": "https://localhost:8080/"
        },
        "id": "SGPLm6kklwbL",
        "outputId": "3a0827f1-3b39-45c0-f31a-2ceb6ccd8a37"
      },
      "source": [
        "#Search SS regions in dotbracket and return indexes.\n",
        "import re\n",
        "\n",
        "ssIndex = re.search(r'\\.\\.\\.\\.\\.\\.\\.\\.', dotbracket).span()\n",
        "print(ssIndex)"
      ],
      "execution_count": 11,
      "outputs": [
        {
          "output_type": "stream",
          "text": [
            "(156, 164)\n"
          ],
          "name": "stdout"
        }
      ]
    },
    {
      "cell_type": "code",
      "metadata": {
        "colab": {
          "base_uri": "https://localhost:8080/"
        },
        "id": "OI2IFyGll7JK",
        "outputId": "10ad1b7d-9ad7-4998-d420-f46fbd4c4b1a"
      },
      "source": [
        "#Find the matching seq and return a complementary seq\n",
        "def matchingSequence(ssIndex):\n",
        "  m = Seq(seq[ssIndex[0]:ssIndex[1]])\n",
        "  c = m.complement()\n",
        "  return m,c \n",
        "\n",
        "matchingSequence(ssIndex)"
      ],
      "execution_count": 169,
      "outputs": [
        {
          "output_type": "execute_result",
          "data": {
            "text/plain": [
              "(Seq('CTCCAGGA'), Seq('GAGGTCCT'))"
            ]
          },
          "metadata": {
            "tags": []
          },
          "execution_count": 169
        }
      ]
    },
    {
      "cell_type": "code",
      "metadata": {
        "id": "j-Ew9oQEeJvj"
      },
      "source": [
        "\"\"\"unsuccessful try for gRNA geenration as a function\n",
        "from Bio.Seq import Seq\n",
        "import re\n",
        "\n",
        "# Get all the dotbrackets longer than 8nt with their indexes.\n",
        "def grnaGenerator(dotbracket):\n",
        "  allDotsRegions = re.finditer(r'\\.{8,}', dotbracket)\n",
        "  results = []\n",
        "  while True:\n",
        "    try: \n",
        "      e = next(allDotsRegions)\n",
        "    except StopIteration:\n",
        "      break\n",
        "  # print(e.span())\n",
        "    results.append(e.span())\n",
        "  # print(results)\n",
        "  # print(e.span())\n",
        "  # print(e.group())\n",
        "  for s in results:\n",
        "    targeeet = Seq(seq[s[0]:s[1]])\n",
        "    targeeet_u = Seq(seq[s[0]:s[1]]).transcribe()\n",
        "    targeeet_c = targeeet.complement()\n",
        "    #print(targeeet)\n",
        "    #print(targeeet_u)\n",
        "  return targeeet_c\n",
        "\n",
        "\"\"\"\n"
      ],
      "execution_count": 115,
      "outputs": []
    },
    {
      "cell_type": "code",
      "metadata": {
        "colab": {
          "base_uri": "https://localhost:8080/",
          "height": 168
        },
        "id": "wY5PzlZHvdp2",
        "outputId": "2cd9b847-b143-4481-802b-fc079a8b8cf4"
      },
      "source": [
        "grnaGenerator(dotbracket)"
      ],
      "execution_count": 193,
      "outputs": [
        {
          "output_type": "error",
          "ename": "TypeError",
          "evalue": "ignored",
          "traceback": [
            "\u001b[0;31m---------------------------------------------------------------------------\u001b[0m",
            "\u001b[0;31mTypeError\u001b[0m                                 Traceback (most recent call last)",
            "\u001b[0;32m<ipython-input-193-dbe3c2bec6fb>\u001b[0m in \u001b[0;36m<module>\u001b[0;34m()\u001b[0m\n\u001b[0;32m----> 1\u001b[0;31m \u001b[0mgrnaGenerator\u001b[0m\u001b[0;34m(\u001b[0m\u001b[0mdotbracket\u001b[0m\u001b[0;34m)\u001b[0m\u001b[0;34m\u001b[0m\u001b[0;34m\u001b[0m\u001b[0m\n\u001b[0m",
            "\u001b[0;31mTypeError\u001b[0m: grnaGenerator() takes 0 positional arguments but 1 was given"
          ]
        }
      ]
    },
    {
      "cell_type": "code",
      "metadata": {
        "colab": {
          "base_uri": "https://localhost:8080/",
          "height": 120
        },
        "id": "c-NdjPCRzTby",
        "outputId": "e312233c-b517-4875-f24b-8ac7a580ccae"
      },
      "source": [
        "\"\"\" Working fine, but commented out for improvement\n",
        "class gRNA:  \n",
        "  def grnaGenerator(self):\n",
        "    allDotsRegions = re.finditer(r'\\.{8,}', dotbracket)\n",
        "    results = []\n",
        "    while True:\n",
        "      try: \n",
        "        e = next(allDotsRegions)\n",
        "      except StopIteration:\n",
        "        break\n",
        "    results.append(e.span())\n",
        "    # print(results)\n",
        "    # print(e.span())\n",
        "    # print(e.group())\n",
        "    for s in results:\n",
        "      targeeet = Seq(seq[s[0]:s[1]]) \n",
        "      targeeet_c = targeeet.complement()\n",
        "      targeeet_u = Seq(seq[s[0]:s[1]]).transcribe()  #T -> U\n",
        "      #print(targeeet)\n",
        "      #print(targeeet_u)\n",
        "      #print(targeeet_u)\n",
        "\n",
        "      return targeeet_u\n",
        "\"\"\"  "
      ],
      "execution_count": 184,
      "outputs": [
        {
          "output_type": "execute_result",
          "data": {
            "application/vnd.google.colaboratory.intrinsic+json": {
              "type": "string"
            },
            "text/plain": [
              "\"\\nclass gRNA:  \\n  def grnaGenerator(self):\\n    allDotsRegions = re.finditer(r'\\\\.{8,}', dotbracket)\\n    results = []\\n    while True:\\n      try: \\n        e = next(allDotsRegions)\\n      except StopIteration:\\n        break\\n    results.append(e.span())\\n    # print(results)\\n    # print(e.span())\\n    # print(e.group())\\n    for s in results:\\n      targeeet = Seq(seq[s[0]:s[1]]) \\n      targeeet_c = targeeet.complement()\\n      targeeet_u = Seq(seq[s[0]:s[1]]).transcribe()  #T -> U\\n      #print(targeeet)\\n      #print(targeeet_u)\\n      #print(targeeet_u)\\n\\n      return targeeet_u\\n\""
            ]
          },
          "metadata": {
            "tags": []
          },
          "execution_count": 184
        }
      ]
    },
    {
      "cell_type": "code",
      "metadata": {
        "id": "wTwt_82zPLoF"
      },
      "source": [
        "class gRNA: \n",
        "  #def readJson(self):\n",
        "  #return\n",
        "  #def prepareData(self):\n",
        "  #return\n",
        "  #def grnaGenerator(self):\n",
        "    allDotsRegions = re.finditer(r'\\.{8,}', dotbracket)\n",
        "    results = []\n",
        "    while True:\n",
        "      try: \n",
        "        e = next(allDotsRegions)\n",
        "      except StopIteration:\n",
        "        break\n",
        "    results.append(e.span())\n",
        "    # print(results)\n",
        "    # print(e.span())\n",
        "    # print(e.group())\n",
        "    for s in results:\n",
        "      targeeet = Seq(seq[s[0]:s[1]]) \n",
        "      targeeet_c = targeeet.complement()\n",
        "      targeeet_u = Seq(seq[s[0]:s[1]]).transcribe()  #T -> U\n",
        "      #print(targeeet)\n",
        "      #print(targeeet_u)\n",
        "      #print(targeeet_u)\n",
        "\n",
        "   #return targeeet_u\n",
        "   #def exportToSpreadsheet(self):\n",
        "   #return\n"
      ],
      "execution_count": 187,
      "outputs": []
    },
    {
      "cell_type": "code",
      "metadata": {
        "colab": {
          "base_uri": "https://localhost:8080/"
        },
        "id": "XdsRoiFHUYZV",
        "outputId": "cb8c6115-cc2b-4363-98f1-87e91d69c164"
      },
      "source": [
        "#Success!!!\n",
        "for i in results:\n",
        "  #print(i)\n",
        "  a = Seq(seq[i[0]:i[1]])\n",
        "  a = a.complement()\n",
        "  a = a.transcribe()\n",
        "  #print(a)\n",
        "  #print(i)\n",
        "  d = {'start':i[0], 'end':i[1],'seq':a}\n",
        "  #d = {i,a}\n",
        "  print(d)\n"
      ],
      "execution_count": 231,
      "outputs": [
        {
          "output_type": "stream",
          "text": [
            "{'start': 156, 'end': 169, 'seq': Seq('GAGGUCCUAGGUG')}\n",
            "{'start': 225, 'end': 233, 'seq': Seq('GUUAAAGA')}\n",
            "{'start': 530, 'end': 538, 'seq': Seq('UUUCUUCU')}\n",
            "{'start': 541, 'end': 549, 'seq': Seq('CGACUGGU')}\n"
          ],
          "name": "stdout"
        }
      ]
    },
    {
      "cell_type": "code",
      "metadata": {
        "colab": {
          "base_uri": "https://localhost:8080/"
        },
        "id": "xl0_7nvo0C4T",
        "outputId": "957c5c5f-d0ee-42da-b999-96782777afa7"
      },
      "source": [
        "grnaGenerator()\n",
        "print(results)"
      ],
      "execution_count": 195,
      "outputs": [
        {
          "output_type": "stream",
          "text": [
            "GCUGACCA\n",
            "[(156, 169), (225, 233), (530, 538), (541, 549)]\n"
          ],
          "name": "stdout"
        }
      ]
    },
    {
      "cell_type": "code",
      "metadata": {
        "id": "hmX6usvZ2Gz3"
      },
      "source": [
        "#Export to google spreadsheet\n",
        "from google.colab import auth\n",
        "\n",
        "auth.authenticate_user()\n",
        "\n",
        "import gspread\n",
        "\n",
        "from oauth2client.client import GoogleCredentials\n",
        "\n",
        "gc = gspread.authorize(GoogleCredentials.get_application_default())\n"
      ],
      "execution_count": 156,
      "outputs": []
    },
    {
      "cell_type": "code",
      "metadata": {
        "id": "EkfkovqcLeMY"
      },
      "source": [
        "#pandas and matplotlib.pyplot\n",
        "import pandas as pd\n",
        "\n",
        "import matplotlib.pyplot as plt\n",
        "\n",
        "wb = gc.open_by_url('https://docs.google.com/spreadsheets/d/1cdS-UhQN0x7timp3ogsVFh8LM2t0ZFKLUP-XLQ2nGCk/edit#gid=0')"
      ],
      "execution_count": 158,
      "outputs": []
    },
    {
      "cell_type": "code",
      "metadata": {
        "id": "oZjGxdnfMXz3"
      },
      "source": [
        "sheet = wb.worksheet('muscle')\n",
        "data = sheet.get_all_values()\n",
        "#print(data)\n",
        "\n",
        "df = pd.DataFrame(data)\n",
        "df.columns = df.iloc[0]\n",
        "df = df.iloc[1:]"
      ],
      "execution_count": 163,
      "outputs": []
    },
    {
      "cell_type": "code",
      "metadata": {
        "colab": {
          "base_uri": "https://localhost:8080/",
          "height": 275
        },
        "id": "rDacPGIKMs0O",
        "outputId": "7a94d840-bdb7-448c-f467-26e494a545aa"
      },
      "source": [
        "df.head()"
      ],
      "execution_count": 164,
      "outputs": [
        {
          "output_type": "execute_result",
          "data": {
            "text/html": [
              "<div>\n",
              "<style scoped>\n",
              "    .dataframe tbody tr th:only-of-type {\n",
              "        vertical-align: middle;\n",
              "    }\n",
              "\n",
              "    .dataframe tbody tr th {\n",
              "        vertical-align: top;\n",
              "    }\n",
              "\n",
              "    .dataframe thead th {\n",
              "        text-align: right;\n",
              "    }\n",
              "</style>\n",
              "<table border=\"1\" class=\"dataframe\">\n",
              "  <thead>\n",
              "    <tr style=\"text-align: right;\">\n",
              "      <th></th>\n",
              "      <th>ID</th>\n",
              "      <th>external_gene_name</th>\n",
              "      <th>Number</th>\n",
              "      <th>gRNA sequence</th>\n",
              "      <th>raw sequence</th>\n",
              "      <th>dotbracket</th>\n",
              "    </tr>\n",
              "  </thead>\n",
              "  <tbody>\n",
              "    <tr>\n",
              "      <th>1</th>\n",
              "      <td>ENSG00000224272</td>\n",
              "      <td>AC131097.3</td>\n",
              "      <td></td>\n",
              "      <td></td>\n",
              "      <td></td>\n",
              "      <td></td>\n",
              "    </tr>\n",
              "    <tr>\n",
              "      <th>2</th>\n",
              "      <td>ENSG00000243429</td>\n",
              "      <td>OR7E29P</td>\n",
              "      <td>17</td>\n",
              "      <td></td>\n",
              "      <td>AGACCCACAGAATCTAACAGATGTCTCTATATTCCTCCTCCTAGAA...</td>\n",
              "      <td>.......((((((......((((((..........(((.((.(((....</td>\n",
              "    </tr>\n",
              "    <tr>\n",
              "      <th>3</th>\n",
              "      <td>ENSG00000251196</td>\n",
              "      <td>AC106760.1</td>\n",
              "      <td></td>\n",
              "      <td></td>\n",
              "      <td></td>\n",
              "      <td></td>\n",
              "    </tr>\n",
              "    <tr>\n",
              "      <th>4</th>\n",
              "      <td>ENSG00000229425</td>\n",
              "      <td>AJ009632.2</td>\n",
              "      <td></td>\n",
              "      <td></td>\n",
              "      <td></td>\n",
              "      <td></td>\n",
              "    </tr>\n",
              "    <tr>\n",
              "      <th>5</th>\n",
              "      <td>ENSG00000236423</td>\n",
              "      <td>LINC01134</td>\n",
              "      <td></td>\n",
              "      <td></td>\n",
              "      <td></td>\n",
              "      <td></td>\n",
              "    </tr>\n",
              "  </tbody>\n",
              "</table>\n",
              "</div>"
            ],
            "text/plain": [
              "0               ID  ...                                         dotbracket\n",
              "1  ENSG00000224272  ...                                                   \n",
              "2  ENSG00000243429  ...  .......((((((......((((((..........(((.((.(((....\n",
              "3  ENSG00000251196  ...                                                   \n",
              "4  ENSG00000229425  ...                                                   \n",
              "5  ENSG00000236423  ...                                                   \n",
              "\n",
              "[5 rows x 6 columns]"
            ]
          },
          "metadata": {
            "tags": []
          },
          "execution_count": 164
        }
      ]
    }
  ]
}